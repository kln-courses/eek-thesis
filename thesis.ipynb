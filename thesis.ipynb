{
 "cells": [
  {
   "cell_type": "markdown",
   "metadata": {},
   "source": [
    "## Importing files sorted on filename ##\n",
    "\n",
    "Here we import your .txt files and their filenames. We sort the filenames to keep the order of your index.\n",
    "\n",
    "nb. you need to install the `natsort` module: https://anaconda.org/anaconda/natsort\n",
    "    , which you can either do from the Anaconda Prompt or from the Anaconda Navigator.\n",
    "    If you use the prompt write: `conda install natsort`"
   ]
  },
  {
   "cell_type": "code",
   "execution_count": 2,
   "metadata": {},
   "outputs": [],
   "source": [
    "import os, glob\n",
    "from natsort import natsorted\n",
    "\n",
    "def read_txt_dir(dirpath):\n",
    "    \"\"\" import all .txt files from directory of directory path dirpath\n",
    "        - output file and filename in list\n",
    "    \"\"\"\n",
    "    filenames = natsorted(glob.glob(os.path.join(dirpath,\"*.txt\")))\n",
    "    files = list()\n",
    "    for filename in filenames:\n",
    "        with open(filename,\"r\") as fobj:\n",
    "            files.append(fobj.read())\n",
    "    filenames = [filename.split(\"/\")[-1] for filename in filenames]\n",
    "    return files, filenames \n",
    "\n",
    "# import articles\n",
    "article_path = os.path.join(\"dat\",\"articles\")\n",
    "articles, article_names = read_txt_dir(article_path)\n",
    "\n",
    "# import magazines\n",
    "magazine_path = os.path.join(\"dat\",\"magazines\")\n",
    "magazines, magazine_names = read_txt_dir(magazine_path)"
   ]
  },
  {
   "cell_type": "markdown",
   "metadata": {},
   "source": [
    "## Tokenization and basic corpus statistics ##\n",
    "\n",
    "Start by computing basic corpus statistics. For this you need several functions for preprocessing your string data. We use `re` to remove punctuation and `NLTK` for tokenization. The functionality can be implemented with `re` alone."
   ]
  },
  {
   "cell_type": "code",
   "execution_count": 3,
   "metadata": {},
   "outputs": [
    {
     "name": "stdout",
     "output_type": "stream",
     "text": [
      "The corpus consist of 287177 tokens distributed over 13104 lexical types\n",
      "The lexical richness measured as the type-token ratio is 0.0456\n",
      "On average every word is repeated 21.92 times\n"
     ]
    }
   ],
   "source": [
    "import re\n",
    "from nltk import word_tokenize\n",
    "\n",
    "def remove_punctuation(string):\n",
    "    pattern = re.compile(r\"\\W+\")\n",
    "    return pattern.sub(\"\",string)\n",
    "\n",
    "def clean_word_tokenize(string, casefold = True, nopunct = True):\n",
    "    \"\"\" Word-level tokenizer that casefolds to lower if True\n",
    "    and removes punctuation if True\n",
    "    \"\"\"\n",
    "    if casefold:\n",
    "        string = string.lower()\n",
    "    else:\n",
    "        pass\n",
    "    tokens = word_tokenize(string)\n",
    "    if nopunct:\n",
    "        tokens = [remove_punctuation(token) for token in tokens]\n",
    "    else:\n",
    "        pass\n",
    "    tokens = [token for token in tokens if token]\n",
    "    return tokens\n",
    "\n",
    "flatten = lambda l: [item for sublist in l for item in sublist]\n",
    "\n",
    "# tokenize all articles at word level (all words are lowercased and punctuation removed)\n",
    "articles_tokens = list(map(clean_word_tokenize,articles))# apply tokenizer to all string object in list\n",
    "tokens = sorted(flatten(articles_tokens))# all tokens in one (flat) sorted list\n",
    "n_tokens = len(tokens)# number of tokens\n",
    "n_types = len(list(set(tokens)))# number of typeshhh\n",
    "\n",
    "print(\"The corpus consist of {} tokens distributed over {} lexical types\".format(n_tokens, n_types))\n",
    "print(\"The lexical richness measured as the type-token ratio is {}\".format(round(n_types/n_tokens,4)))\n",
    "print(\"On average every word is repeated {} times\".format(round(n_tokens/n_types,2)))"
   ]
  },
  {
   "cell_type": "markdown",
   "metadata": {},
   "source": [
    "Topic Modelling"
   ]
  },
  {
   "cell_type": "code",
   "execution_count": 4,
   "metadata": {},
   "outputs": [],
   "source": [
    "from nltk.tag import pos_tag\n",
    "\n",
    "#tag every token and store tagged tokens in list\n",
    "tokens_tagged = pos_tag(tokens, tagset = 'universal', lang = 'eng')\n"
   ]
  },
  {
   "cell_type": "code",
   "execution_count": null,
   "metadata": {},
   "outputs": [],
   "source": []
  }
 ],
 "metadata": {
  "kernelspec": {
   "display_name": "Python 3",
   "language": "python",
   "name": "python3"
  },
  "language_info": {
   "codemirror_mode": {
    "name": "ipython",
    "version": 3
   },
   "file_extension": ".py",
   "mimetype": "text/x-python",
   "name": "python",
   "nbconvert_exporter": "python",
   "pygments_lexer": "ipython3",
   "version": "3.6.5"
  }
 },
 "nbformat": 4,
 "nbformat_minor": 2
}
