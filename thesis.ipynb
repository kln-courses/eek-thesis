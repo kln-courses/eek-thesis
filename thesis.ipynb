{
 "cells": [
  {
   "cell_type": "markdown",
   "metadata": {},
   "source": [
    "## Importing files sorted on filename ##\n",
    "\n",
    "Here we import your .txt files and their filenames. We sort the filenames to keep the order of your index.\n",
    "\n",
    "nb. you need to install the `natsort` module: https://anaconda.org/anaconda/natsort\n",
    "    , which you can either do from the Anaconda Prompt or from the Anaconda Navigator.\n",
    "    If you use the prompt write: `conda install natsort`"
   ]
  },
  {
   "cell_type": "code",
   "execution_count": 16,
   "metadata": {},
   "outputs": [
    {
     "name": "stdout",
     "output_type": "stream",
     "text": [
      "rumiyah_1.txt\n"
     ]
    }
   ],
   "source": [
    "import os, glob\n",
    "from natsort import natsorted\n",
    "\n",
    "def read_txt_dir(dirpath):\n",
    "    \"\"\" import all .txt files from directory of directory path dirpath\n",
    "        - output file and filename in list\n",
    "    \"\"\"\n",
    "    filenames = natsorted(glob.glob(os.path.join(dirpath,\"*.txt\")))\n",
    "    files = list()\n",
    "    for filename in filenames:\n",
    "        with open(filename,\"r\") as fobj:\n",
    "            files.append(fobj.read())\n",
    "    filenames = [filename.split(\"/\")[-1] for filename in filenames]\n",
    "    return files, filenames \n",
    "\n",
    "# import articles\n",
    "article_path = os.path.join(\"dat\",\"articles\")\n",
    "articles, article_names = read_txt_dir(article_path)\n",
    "\n",
    "# import magazines\n",
    "magazine_path = os.path.join(\"dat\",\"magazines\")\n",
    "magazines, magazine_names = read_txt_dir(magazine_path)"
   ]
  }
 ],
 "metadata": {
  "kernelspec": {
   "display_name": "demo",
   "language": "python",
   "name": "demo"
  },
  "language_info": {
   "codemirror_mode": {
    "name": "ipython",
    "version": 3
   },
   "file_extension": ".py",
   "mimetype": "text/x-python",
   "name": "python",
   "nbconvert_exporter": "python",
   "pygments_lexer": "ipython3",
   "version": "3.5.2"
  }
 },
 "nbformat": 4,
 "nbformat_minor": 2
}
