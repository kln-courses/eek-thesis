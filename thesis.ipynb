{
 "cells": [
  {
   "cell_type": "markdown",
   "metadata": {},
   "source": [
    "## Importing files sorted on filename ##\n",
    "\n",
    "Here we import your .txt files and their filenames. We sort the filenames to keep the order of your index.\n",
    "\n",
    "nb. you need to install the `natsort` module: https://anaconda.org/anaconda/natsort\n",
    "    , which you can either do from the Anaconda Prompt or from the Anaconda Navigator.\n",
    "    If you use the prompt write: `conda install natsort`"
   ]
  },
  {
   "cell_type": "code",
   "execution_count": 1,
   "metadata": {},
   "outputs": [],
   "source": [
    "import os, glob\n",
    "from natsort import natsorted\n",
    "\n",
    "def read_txt_dir(dirpath):\n",
    "    \"\"\" import all .txt files from directory of directory path dirpath\n",
    "        - output file and filename in list\n",
    "    \"\"\"\n",
    "    filenames = natsorted(glob.glob(os.path.join(dirpath,\"*.txt\")))\n",
    "    files = list()\n",
    "    for filename in filenames:\n",
    "        with open(filename,\"r\") as fobj:\n",
    "            files.append(fobj.read())\n",
    "    filenames = [filename.split(\"/\")[-1] for filename in filenames]\n",
    "    return files, filenames \n",
    "\n",
    "# import articles\n",
    "article_path = os.path.join(\"dat\",\"articles\")\n",
    "articles, article_names = read_txt_dir(article_path)\n",
    "\n",
    "# import magazines\n",
    "magazine_path = os.path.join(\"dat\",\"magazines\")\n",
    "magazines, magazine_names = read_txt_dir(magazine_path)"
   ]
  },
  {
   "cell_type": "markdown",
   "metadata": {},
   "source": [
    "## Tokenization and basic corpus statistics ##\n",
    "\n",
    "Start by computing basic corpus statistics. For this you need several functions for preprocessing your string data. We use `re` to remove punctuation and `NLTK` for tokenization. The functionality can be implemented with `re` alone."
   ]
  },
  {
   "cell_type": "code",
   "execution_count": 3,
   "metadata": {},
   "outputs": [
    {
     "name": "stdout",
     "output_type": "stream",
     "text": [
      "The corpus consist of 289006 tokens distributed over 12336 lexical types\n",
      "The lexical richness measured as the type-token ratio is 0.0427\n",
      "On average every word is repeated 23.43 times\n"
     ]
    }
   ],
   "source": [
    "######################################## TOKENIZE ###########################################\n",
    "\n",
    "import re\n",
    "\n",
    "# function to tokenize and lowercase strings\n",
    "def tokenize(input, length = 0, casefold = True):   # ignore tokens shorter than or equal to 3\n",
    "    tokenizer = re.compile(r'[^A-Za-z]+')           # only retain chars\n",
    "    if casefold:                                    # lowercase if casefold = True\n",
    "        input = input.lower()\n",
    "    tokens = [token for token in tokenizer.split(input) if len(token) > length]\n",
    "    return tokens\n",
    "\n",
    "flatten = lambda l: [item for sublist in l for item in sublist]\n",
    "\n",
    "articles_tokens = list(map(tokenize,articles))      # tokenize all articles in list\n",
    "tokens = sorted(flatten(articles_tokens))           # all tokens in one (flat) sorted list\n",
    "n_tokens = len(tokens)                              # total number of tokens\n",
    "n_types = len(list(set(tokens)))                    # number of unique tokens\n",
    "\n",
    "print(\"The corpus consist of {} tokens distributed over {} lexical types\".format(n_tokens, n_types))\n",
    "print(\"The lexical richness measured as the type-token ratio is {}\".format(round(n_types/n_tokens,4)))\n",
    "print(\"On average every word is repeated {} times\".format(round(n_tokens/n_types,2)))"
   ]
  },
  {
   "cell_type": "markdown",
   "metadata": {},
   "source": [
    "## Stopwords ##"
   ]
  },
  {
   "cell_type": "code",
   "execution_count": 5,
   "metadata": {},
   "outputs": [],
   "source": [
    "from collections import defaultdict\n",
    "from operator import itemgetter\n",
    "\n",
    "# function to generate stopword list from dataset with n number of stopwords\n",
    "def gen_ls_stoplist(input, n = 100):\n",
    "    t_f_total = defaultdict(int)\n",
    "    for text in input:\n",
    "        for token in text:\n",
    "            t_f_total[token] += 1\n",
    "    nmax = sorted( t_f_total.items(), key = itemgetter(1), reverse = True)[:n]\n",
    "    return [elem[0] for elem in nmax]\n",
    "\n",
    "# generate stopword list from articles with 50 stopwords\n",
    "sw = gen_ls_stoplist(articles_tokens, 50)\n",
    "\n",
    "import io\n",
    "\n",
    "# function to read txt-file and store content in string\n",
    "def read_txt(filepath):\n",
    "    f = io.open(filepath, 'r', encoding = 'utf-8')\n",
    "    content = f.read()\n",
    "    f.close()\n",
    "    return content\n",
    "\n",
    "nltksw = read_txt('Stopwords/english')      # save nltk stopword list in variable\n",
    "nltksw = tokenize(nltksw)                   # tokenize nltk stopword list\n",
    "\n",
    "# apply sw\n",
    "no_sw = list()\n",
    "for article in articles_tokens:\n",
    "    out = [token for token in article if token not in sw]\n",
    "    no_sw.append(out)\n",
    "\n",
    "# apply nltksw\n",
    "no_nltksw = list()\n",
    "for article in articles_tokens:\n",
    "    out = [token for token in article if token not in nltksw]\n",
    "    no_nltksw.append(out)\n",
    "\n",
    "# apply sw + nltksw\n",
    "no_swall = list()\n",
    "for article in no_sw:\n",
    "    out = [token for token in article if token not in nltksw]\n",
    "    no_swall.append(out)\n"
   ]
  },
  {
   "cell_type": "markdown",
   "metadata": {},
   "source": [
    "## Filter 3 char tokens ##"
   ]
  },
  {
   "cell_type": "code",
   "execution_count": 8,
   "metadata": {},
   "outputs": [],
   "source": [
    "################################### REMOVE 3 CHAR TOKENS #######################################\n",
    "\n",
    "\n",
    "# remove 3 char tokens from articles without sw\n",
    "clean_nosw = list()\n",
    "for article in no_sw:\n",
    "    out = [token for token in article if len(token)>3]\n",
    "    clean_nosw.append(out)\n",
    "\n",
    "# remove 3 char tokens from articles without nltksw\n",
    "clean_nonltksw = list()\n",
    "for article in no_nltksw:\n",
    "    out = [token for token in article if len(token)>3]\n",
    "    clean_nonltksw.append(out)\n",
    "\n",
    "# remove 3 char tokens from articles without sw + nltk\n",
    "clean_noswall = list()\n",
    "for article in no_swall:\n",
    "    out = [token for token in article if len(token)>3]\n",
    "    clean_noswall.append(out)\n"
   ]
  },
  {
   "cell_type": "markdown",
   "metadata": {},
   "source": [
    "# Stemming"
   ]
  },
  {
   "cell_type": "code",
   "execution_count": 9,
   "metadata": {},
   "outputs": [],
   "source": [
    "######################################### STEMMING  #############################################\n",
    "\n",
    "from nltk.stem import PorterStemmer\n",
    "\n",
    "ps = PorterStemmer()\n",
    "\n",
    "# stemming no sw\n",
    "stem_nosw = list()\n",
    "for article in clean_nosw:\n",
    "    out = [ps.stem(token) for token in article]\n",
    "    stem_nosw.append(out)\n",
    "\n",
    "# stemming no nltk\n",
    "stem_nonltksw = list()\n",
    "for article in clean_nonltksw:\n",
    "    out = [ps.stem(token) for token in article]\n",
    "    stem_nonltksw.append(out)\n",
    "\n",
    "# stemming no sw all\n",
    "stem_noswall = list()\n",
    "for article in clean_noswall:\n",
    "    out = [ps.stem(token) for token in article]\n",
    "    stem_noswall.append(out)"
   ]
  },
  {
   "cell_type": "markdown",
   "metadata": {},
   "source": [
    "## New corpus statistics"
   ]
  },
  {
   "cell_type": "code",
   "execution_count": 12,
   "metadata": {},
   "outputs": [
    {
     "name": "stdout",
     "output_type": "stream",
     "text": [
      "The corpus now consist of 124661 tokens distributed over 7493 lexical types\n",
      "The new lexical richness measured as the type-token ratio is now 0.0601\n",
      "On average every word is now repeated 16.64 times\n"
     ]
    }
   ],
   "source": [
    "################################### NEW CORPUS STATISTICS ########################################\n",
    "\n",
    "\n",
    "clean_tokens = sorted(flatten(stem_nonltksw))            # all tokens in one (flat) sorted list\n",
    "n_clean_tokens = len(clean_tokens)                      # total number of tokens\n",
    "n_clean_types = len(list(set(clean_tokens)))            # number of unique tokens\n",
    "\n",
    "\n",
    "print(\"The corpus now consist of {} tokens distributed over {} lexical types\".format(n_clean_tokens, n_clean_types))\n",
    "print(\"The new lexical richness measured as the type-token ratio is now {}\".format(round(n_clean_types/n_clean_tokens,4)))\n",
    "print(\"On average every word is now repeated {} times\".format(round(n_clean_tokens/n_clean_types,2)))\n",
    "\n"
   ]
  },
  {
   "cell_type": "markdown",
   "metadata": {},
   "source": [
    "# Word frequency"
   ]
  },
  {
   "cell_type": "code",
   "execution_count": 10,
   "metadata": {},
   "outputs": [],
   "source": []
  },
  {
   "cell_type": "markdown",
   "metadata": {},
   "source": [
    "# Topic modeling"
   ]
  },
  {
   "cell_type": "code",
   "execution_count": null,
   "metadata": {},
   "outputs": [],
   "source": []
  },
  {
   "cell_type": "markdown",
   "metadata": {},
   "source": [
    "# Association rules"
   ]
  },
  {
   "cell_type": "code",
   "execution_count": null,
   "metadata": {},
   "outputs": [],
   "source": []
  }
 ],
 "metadata": {
  "kernelspec": {
   "display_name": "Python 3",
   "language": "python",
   "name": "python3"
  },
  "language_info": {
   "codemirror_mode": {
    "name": "ipython",
    "version": 3
   },
   "file_extension": ".py",
   "mimetype": "text/x-python",
   "name": "python",
   "nbconvert_exporter": "python",
   "pygments_lexer": "ipython3",
   "version": "3.6.5"
  }
 },
 "nbformat": 4,
 "nbformat_minor": 2
}
